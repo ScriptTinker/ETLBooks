{
  "cells": [
    {
      "cell_type": "code",
      "execution_count": null,
      "metadata": {
        "colab": {
          "background_save": true,
          "base_uri": "https://localhost:8080/",
          "height": 1000
        },
        "id": "C7_rmZ6V_eKF",
        "outputId": "1728c4c4-0ea6-4338-b56a-362b5a992cc4"
      },
      "outputs": [],
      "source": [
        "!git clone https://github.com/ScriptTinker/ETLBooks.git\n",
        "\n",
        "%cd ETLBooks\n",
        "\n",
        "from google.colab.output import eval_js\n",
        "public_url = eval_js(\"google.colab.kernel.proxyPort(5000)\")\n",
        "print(\"Public URL:\", public_url)\n",
        "\n",
        "!python -m run\n"
      ]
    }
  ],
  "metadata": {
    "accelerator": "GPU",
    "colab": {
      "gpuType": "T4",
      "provenance": [],
      "toc_visible": true
    },
    "kernelspec": {
      "display_name": "Python 3",
      "name": "python3"
    },
    "language_info": {
      "name": "python"
    }
  },
  "nbformat": 4,
  "nbformat_minor": 0
}
