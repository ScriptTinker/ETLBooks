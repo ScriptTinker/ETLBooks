{
  "cells": [
    {
      "cell_type": "code",
      "execution_count": null,
      "metadata": {
        "colab": {
          "background_save": true,
          "base_uri": "https://localhost:8080/",
          "height": 1000
        },
        "id": "C7_rmZ6V_eKF",
        "outputId": "1728c4c4-0ea6-4338-b56a-362b5a992cc4"
      },
      "outputs": [],
      "source": [
        "!git clone https://github.com/ScriptTinker/ETLBooks.git\n",
        "\n",
        "%cd ETLBooks\n",
        "\n",
        "!pip install pyngrok\n",
        "\n",
        "!ngrok config add-authtoken $YOUR_AUTHTOKEN\n",
        "\n",
        "!python -m run"
      ]
    }
  ],
  "metadata": {
    "accelerator": "GPU",
    "colab": {
      "gpuType": "T4",
      "provenance": [],
      "toc_visible": true
    },
    "kernelspec": {
      "display_name": "Python 3",
      "name": "python3"
    },
    "language_info": {
      "codemirror_mode": {
        "name": "ipython",
        "version": 3
      },
      "file_extension": ".py",
      "mimetype": "text/x-python",
      "name": "python",
      "nbconvert_exporter": "python",
      "pygments_lexer": "ipython3",
      "version": "3.11.9"
    }
  },
  "nbformat": 4,
  "nbformat_minor": 0
}
